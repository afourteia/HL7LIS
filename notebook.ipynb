{
 "cells": [
  {
   "cell_type": "code",
   "execution_count": 37,
   "metadata": {},
   "outputs": [
    {
     "data": {
      "text/plain": [
       "'2.3.1'"
      ]
     },
     "execution_count": 37,
     "metadata": {},
     "output_type": "execute_result"
    }
   ],
   "source": [
    "import hl7apy\n",
    "from hl7apy import parser\n",
    "from hl7apy.exceptions import UnsupportedVersion\n",
    "from pprint import pprint\n",
    "\n",
    "hl7apy.set_default_version('2.3.1')\n",
    "hl7apy.get_default_version()"
   ]
  },
  {
   "cell_type": "code",
   "execution_count": 48,
   "metadata": {},
   "outputs": [],
   "source": [
    "hl7 = open('ORU.hl7', 'r').read()"
   ]
  },
  {
   "cell_type": "code",
   "execution_count": 49,
   "metadata": {},
   "outputs": [
    {
     "name": "stdout",
     "output_type": "stream",
     "text": [
      "Trying to parse the message with the specific parser\n"
     ]
    }
   ],
   "source": [
    "try:\n",
    "    print(\"Trying to parse the message with the specific parser\")\n",
    "    m = parser.parse_message(hl7.replace(\"\\n\", \"\\r\"),find_groups=False)\n",
    "except UnsupportedVersion:\n",
    "    print(\"Unsupported version, trying to parse the message with the generic parser\")\n",
    "    m = parser.parse_message(hl7.replace(\"\\n\", \"\\r\"),find_groups=False)"
   ]
  },
  {
   "cell_type": "code",
   "execution_count": 58,
   "metadata": {},
   "outputs": [
    {
     "name": "stdout",
     "output_type": "stream",
     "text": [
      "[<Segment MSH>, <Segment PID>, <Segment ORC>, <Segment OBX>, <Segment OBX>]\n",
      "ORU^R01\n",
      "MSH\n",
      "PID\n",
      "ORC\n",
      "OBX\n",
      "OBX\n"
     ]
    }
   ],
   "source": [
    "print(m.children)\n",
    "print(m.msh.msh_9.value)\n",
    "for seg in m.children:\n",
    "    print(seg.name)\n",
    "    # for field in seg.children:\n",
    "    #     print(field.name)\n",
    "    #     for component in field.children:\n",
    "    #         print(component.name)\n",
    "    #         for subcomponent in component.children:\n",
    "    #             print(subcomponent.name)"
   ]
  },
  {
   "cell_type": "code",
   "execution_count": 51,
   "metadata": {},
   "outputs": [
    {
     "name": "stdout",
     "output_type": "stream",
     "text": [
      "{'accept_acknowledgment_type': None,\n",
      " 'alternate_character_set_handling_scheme': None,\n",
      " 'application_acknowledgment_type': None,\n",
      " 'character_set': None,\n",
      " 'continuation_pointer': None,\n",
      " 'country_code': None,\n",
      " 'datetime': datetime.datetime(2022, 1, 24, 1, 41, 0, 800000),\n",
      " 'encoding_characters': '^~\\\\&',\n",
      " 'field_separator': '|',\n",
      " 'message_control_id': 'MSGID123456',\n",
      " 'message_type': 'ORU^R01',\n",
      " 'principal_language_of_message': None,\n",
      " 'processing_id': 'P',\n",
      " 'receiving_application': 'ReceivingApp',\n",
      " 'receiving_facility': 'ReceivingFac',\n",
      " 'security': None,\n",
      " 'sending_application': 'SendingApp',\n",
      " 'sending_facility': 'SendingFac',\n",
      " 'sequence_number': None,\n",
      " 'version_id': '2.3.1'}\n",
      "field is not empty.\n",
      "2.3.1\n",
      "['field_separator', 'encoding_characters', 'sending_application', 'sending_facility', 'receiving_application', 'receiving_facility', 'datetime', 'security', 'message_type', 'message_control_id', 'processing_id', 'version_id', 'sequence_number', 'continuation_pointer', 'accept_acknowledgment_type', 'application_acknowledgment_type', 'country_code', 'character_set', 'principal_language_of_message', 'alternate_character_set_handling_scheme']\n",
      "None\n"
     ]
    }
   ],
   "source": [
    "import datetime\n",
    "import json\n",
    "incoming_hl7_MSH = {\n",
    "    \"field_separator\": m.msh.msh_1.value if m.msh.msh_1.value else None,\n",
    "    \"encoding_characters\": m.msh.msh_2.value if m.msh.msh_2.value else None,\n",
    "    \"sending_application\": m.msh.msh_3.value if m.msh.msh_3.value else None,\n",
    "    \"sending_facility\": m.msh.msh_4.value if m.msh.msh_4.value else None,\n",
    "    \"receiving_application\": m.msh.msh_5.value if m.msh.msh_5.value else None,\n",
    "    \"receiving_facility\": m.msh.msh_6.value if m.msh.msh_6.value else None,\n",
    "    \"datetime\": datetime.datetime.strptime(m.msh.msh_7.value, \"%Y%m%d%H%M%S%f\") if m.msh.msh_7.value else None,\n",
    "    \"security\": m.msh.msh_8.value if m.msh.msh_8.value else None,\n",
    "    \"message_type\": m.msh.msh_9.value if m.msh.msh_9.value else None,\n",
    "    \"message_control_id\": m.msh.msh_10.value if m.msh.msh_10.value else None,\n",
    "    \"processing_id\": m.msh.msh_11.value if m.msh.msh_11.value else None,\n",
    "    \"version_id\": m.msh.msh_12.value if m.msh.msh_12.value else None,\n",
    "    \"sequence_number\": m.msh.msh_13.value if m.msh.msh_13.value else None,\n",
    "    \"continuation_pointer\": m.msh.msh_14.value if m.msh.msh_14.value else None,\n",
    "    \"accept_acknowledgment_type\": m.msh.msh_15.value if m.msh.msh_15.value else None,\n",
    "    \"application_acknowledgment_type\": m.msh.msh_16.value if m.msh.msh_16.value else None,\n",
    "    \"country_code\": m.msh.msh_17.value if m.msh.msh_17.value else None,\n",
    "    \"character_set\": m.msh.msh_18.value if m.msh.msh_18.value else None,\n",
    "    \"principal_language_of_message\": m.msh.msh_19.value if m.msh.msh_19.value else None,\n",
    "    \"alternate_character_set_handling_scheme\": m.msh.msh_20.value if m.msh.msh_20.value else None\n",
    "}\n",
    "b = list(incoming_hl7_MSH.keys())\n",
    "pprint(incoming_hl7_MSH)\n",
    "a = incoming_hl7_MSH['version_id']\n",
    "if not a:\n",
    "    print(\"field is empty.\")\n",
    "else:\n",
    "    print(\"field is not empty.\")\n",
    "print(a )\n",
    "print(b)\n",
    "print(incoming_hl7_MSH[b[15]])\n"
   ]
  },
  {
   "cell_type": "code",
   "execution_count": 66,
   "metadata": {},
   "outputs": [
    {
     "name": "stdout",
     "output_type": "stream",
     "text": [
      "------------------\n",
      "{\n",
      "    \"field_separator\": \"|\",\n",
      "    \"encoding_characters\": \"^~\\\\&\",\n",
      "    \"sending_application\": \"SendingApp\",\n",
      "    \"sending_facility\": \"SendingFac\",\n",
      "    \"receiving_application\": \"ReceivingApp\",\n",
      "    \"receiving_facility\": \"ReceivingFac\",\n",
      "    \"datetime\": \"2022-01-24 01:41:00.800000\",\n",
      "    \"security\": null,\n",
      "    \"message_type\": \"ORU^R01\",\n",
      "    \"message_control_id\": \"MSGID123456\",\n",
      "    \"processing_id\": \"P\",\n",
      "    \"version_id\": \"2.3.1\",\n",
      "    \"sequence_number\": null,\n",
      "    \"continuation_pointer\": null,\n",
      "    \"accept_acknowledgment_type\": null,\n",
      "    \"application_acknowledgment_type\": null,\n",
      "    \"country_code\": null,\n",
      "    \"character_set\": null,\n",
      "    \"principal_language_of_message\": null,\n",
      "    \"alternate_character_set_handling_scheme\": null\n",
      "}\n"
     ]
    }
   ],
   "source": [
    "print('------------------')\n",
    "json_object = json.dumps(incoming_hl7_MSH, indent = 4, default=str)  \n",
    "print(json_object) "
   ]
  },
  {
   "cell_type": "code",
   "execution_count": 59,
   "metadata": {},
   "outputs": [
    {
     "name": "stdout",
     "output_type": "stream",
     "text": [
      "1\n",
      "{'alternate_patient_id_pid': None,\n",
      " 'birth_order': None,\n",
      " 'birth_place': None,\n",
      " 'citizenship': None,\n",
      " 'county_code': None,\n",
      " 'datetime_of_birth': '19700101',\n",
      " 'drivers_license_number_patient': None,\n",
      " 'ethnic_group': None,\n",
      " 'marital_status': None,\n",
      " 'mother_maiden_name': None,\n",
      " 'mothers_identifier': None,\n",
      " 'multiple_birth_indicator': None,\n",
      " 'nationality': None,\n",
      " 'patient_account_number': None,\n",
      " 'patient_address': '123 Main St^^Anytown^CA^12345^USA',\n",
      " 'patient_alias': None,\n",
      " 'patient_death_date_and_time': None,\n",
      " 'patient_death_indicator': None,\n",
      " 'patient_id': None,\n",
      " 'patient_identifier_list': '12345^^^MRN^MR',\n",
      " 'patient_name': 'Doe^John^^^Mr.',\n",
      " 'phone_number_business': None,\n",
      " 'phone_number_home': None,\n",
      " 'primary_language': None,\n",
      " 'race': None,\n",
      " 'religion': None,\n",
      " 'set_id_pid': '1',\n",
      " 'sex': 'M',\n",
      " 'ssn_number_patient': None,\n",
      " 'veterans_military_status': None}\n"
     ]
    }
   ],
   "source": [
    "print(len(m.pid))\n",
    "incoming_hl7_PID = {\n",
    "    \"set_id_pid\": m.pid.pid_1.value if m.pid.pid_1.value else None,\n",
    "    \"patient_id\": m.pid.pid_2.value if m.pid.pid_2.value else None,\n",
    "    \"patient_identifier_list\": m.pid.pid_3.value if m.pid.pid_3.value else None,\n",
    "    \"alternate_patient_id_pid\": m.pid.pid_4.value if m.pid.pid_4.value else None,\n",
    "    \"patient_name\": m.pid.pid_5.value if m.pid.pid_5.value else None,\n",
    "    \"mother_maiden_name\": m.pid.pid_6.value if m.pid.pid_6.value else None,\n",
    "    \"datetime_of_birth\": m.pid.pid_7.value if m.pid.pid_7.value else None,\n",
    "    \"sex\": m.pid.pid_8.value if m.pid.pid_8.value else None,\n",
    "    \"patient_alias\": m.pid.pid_9.value if m.pid.pid_9.value else None,\n",
    "    \"race\": m.pid.pid_10.value if m.pid.pid_10.value else None,\n",
    "    \"patient_address\": m.pid.pid_11.value if m.pid.pid_11.value else None,\n",
    "    \"county_code\": m.pid.pid_12.value if m.pid.pid_12.value else None,\n",
    "    \"phone_number_home\": m.pid.pid_13.value if m.pid.pid_13.value else None,\n",
    "    \"phone_number_business\": m.pid.pid_14.value if m.pid.pid_14.value else None,\n",
    "    \"primary_language\": m.pid.pid_15.value if m.pid.pid_15.value else None,\n",
    "    \"marital_status\": m.pid.pid_16.value if m.pid.pid_16.value else None,\n",
    "    \"religion\": m.pid.pid_17.value if m.pid.pid_17.value else None,\n",
    "    \"patient_account_number\": m.pid.pid_18.value if m.pid.pid_18.value else None,\n",
    "    \"ssn_number_patient\": m.pid.pid_19.value if m.pid.pid_19.value else None,\n",
    "    \"drivers_license_number_patient\": m.pid.pid_20.value if m.pid.pid_20.value else None,\n",
    "    \"mothers_identifier\": m.pid.pid_21.value if m.pid.pid_21.value else None,\n",
    "    \"ethnic_group\": m.pid.pid_22.value if m.pid.pid_22.value else None,\n",
    "    \"birth_place\": m.pid.pid_23.value if m.pid.pid_23.value else None,\n",
    "    \"multiple_birth_indicator\": m.pid.pid_24.value if m.pid.pid_24.value else None,\n",
    "    \"birth_order\": m.pid.pid_25.value if m.pid.pid_25.value else None,\n",
    "    \"citizenship\": m.pid.pid_26.value if m.pid.pid_26.value else None,\n",
    "    \"veterans_military_status\": m.pid.pid_27.value if m.pid.pid_27.value else None,\n",
    "    \"nationality\": m.pid.pid_28.value if m.pid.pid_28.value else None,\n",
    "    \"patient_death_date_and_time\": m.pid.pid_29.value if m.pid.pid_29.value else None,\n",
    "    \"patient_death_indicator\": m.pid.pid_30.value if m.pid.pid_30.value else None\n",
    "}\n",
    "\n",
    "pprint(incoming_hl7_PID)"
   ]
  },
  {
   "cell_type": "code",
   "execution_count": 60,
   "metadata": {},
   "outputs": [
    {
     "name": "stdout",
     "output_type": "stream",
     "text": [
      "{'acknowledgment_code': None,\n",
      " 'delayed_acknowledgment_type': None,\n",
      " 'error_condition': None,\n",
      " 'expected_sequence_number': None,\n",
      " 'message_control_id': None,\n",
      " 'text_message': None}\n"
     ]
    }
   ],
   "source": [
    "incoming_hl7_MSA = {\n",
    "    \"acknowledgment_code\": m.msa.msa_1.value if m.msa.msa_1.value else None,\n",
    "    \"message_control_id\": m.msa.msa_2.value if m.msa.msa_2.value else None,\n",
    "    \"text_message\": m.msa.msa_3.value if m.msa.msa_3.value else None,\n",
    "    \"expected_sequence_number\": m.msa.msa_4.value if m.msa.msa_4.value else None,\n",
    "    \"delayed_acknowledgment_type\": m.msa.msa_5.value if m.msa.msa_5.value else None,\n",
    "    \"error_condition\": m.msa.msa_6.value if m.msa.msa_6.value else None\n",
    "}\n",
    "\n",
    "pprint(incoming_hl7_MSA)"
   ]
  },
  {
   "cell_type": "code",
   "execution_count": 63,
   "metadata": {},
   "outputs": [
    {
     "name": "stdout",
     "output_type": "stream",
     "text": [
      "0\n",
      "{'assistant_result_interpreter': None,\n",
      " 'charge_to_practice': None,\n",
      " 'collection_volume': None,\n",
      " 'collector_comment': None,\n",
      " 'collector_identifier': None,\n",
      " 'danger_code': None,\n",
      " 'diagnostic_serv_sect_id': None,\n",
      " 'escort_required': None,\n",
      " 'filler_field_1': None,\n",
      " 'filler_field_2': None,\n",
      " 'filler_order_number': None,\n",
      " 'number_of_sample_containers': None,\n",
      " 'observation_date_time': None,\n",
      " 'observation_end_date_time': None,\n",
      " 'order_callback_phone_number': None,\n",
      " 'ordering_facility_address': None,\n",
      " 'ordering_facility_name': None,\n",
      " 'ordering_provider': None,\n",
      " 'parent': None,\n",
      " 'parent_result': None,\n",
      " 'placer_field_1': None,\n",
      " 'placer_field_2': None,\n",
      " 'placer_order_number': None,\n",
      " 'planned_patient_transport_comment': None,\n",
      " 'principal_result_interpreter': None,\n",
      " 'priority': None,\n",
      " 'quantity_timing': None,\n",
      " 'reason_for_study': None,\n",
      " 'relevant_clinical_info': None,\n",
      " 'requested_date_time': None,\n",
      " 'result_copies_to': None,\n",
      " 'result_rpt_status_change_date_time': None,\n",
      " 'result_status': None,\n",
      " 'scheduled_date_time': None,\n",
      " 'set_id_obr': None,\n",
      " 'specimen_action_code': None,\n",
      " 'specimen_received_date_time': None,\n",
      " 'specimen_source': None,\n",
      " 'technician': None,\n",
      " 'transcriptionist': None,\n",
      " 'transport_arranged': None,\n",
      " 'transport_arrangement_responsibility': None,\n",
      " 'transport_logistics_of_collected_sample': None,\n",
      " 'transportation_mode': None,\n",
      " 'universal_service_id': None}\n"
     ]
    }
   ],
   "source": [
    "print(len(m.obr))\n",
    "incoming_hl7_OBR = {\n",
    "    \"set_id_obr\": m.obr.obr_1.value if m.obr.obr_1.value else None,\n",
    "    \"placer_order_number\": m.obr.obr_2.value if m.obr.obr_2.value else None,\n",
    "    \"filler_order_number\": m.obr.obr_3.value if m.obr.obr_3.value else None,\n",
    "    \"universal_service_id\": m.obr.obr_4.value if m.obr.obr_4.value else None,\n",
    "    \"priority\": m.obr.obr_5.value if m.obr.obr_5.value else None,\n",
    "    \"requested_date_time\": m.obr.obr_6.value if m.obr.obr_6.value else None,\n",
    "    \"observation_date_time\": m.obr.obr_7.value if m.obr.obr_7.value else None,\n",
    "    \"observation_end_date_time\": m.obr.obr_8.value if m.obr.obr_8.value else None,\n",
    "    \"collection_volume\": m.obr.obr_9.value if m.obr.obr_9.value else None,\n",
    "    \"collector_identifier\": m.obr.obr_10.value if m.obr.obr_10.value else None,\n",
    "    \"specimen_action_code\": m.obr.obr_11.value if m.obr.obr_11.value else None,\n",
    "    \"danger_code\": m.obr.obr_12.value if m.obr.obr_12.value else None,\n",
    "    \"relevant_clinical_info\": m.obr.obr_13.value if m.obr.obr_13.value else None,\n",
    "    \"specimen_received_date_time\": m.obr.obr_14.value if m.obr.obr_14.value else None,\n",
    "    \"specimen_source\": m.obr.obr_15.value if m.obr.obr_15.value else None,\n",
    "    \"ordering_provider\": m.obr.obr_16.value if m.obr.obr_16.value else None,\n",
    "    \"order_callback_phone_number\": m.obr.obr_17.value if m.obr.obr_17.value else None,\n",
    "    \"placer_field_1\": m.obr.obr_18.value if m.obr.obr_18.value else None,\n",
    "    \"placer_field_2\": m.obr.obr_19.value if m.obr.obr_19.value else None,\n",
    "    \"filler_field_1\": m.obr.obr_20.value if m.obr.obr_20.value else None,\n",
    "    \"filler_field_2\": m.obr.obr_21.value if m.obr.obr_21.value else None,\n",
    "    \"result_rpt_status_change_date_time\": m.obr.obr_22.value if m.obr.obr_22.value else None,\n",
    "    \"charge_to_practice\": m.obr.obr_23.value if m.obr.obr_23.value else None,\n",
    "    \"diagnostic_serv_sect_id\": m.obr.obr_24.value if m.obr.obr_24.value else None,\n",
    "    \"result_status\": m.obr.obr_25.value if m.obr.obr_25.value else None,\n",
    "    \"parent_result\": m.obr.obr_26.value if m.obr.obr_26.value else None,\n",
    "    \"quantity_timing\": m.obr.obr_27.value if m.obr.obr_27.value else None,\n",
    "    \"result_copies_to\": m.obr.obr_28.value if m.obr.obr_28.value else None,\n",
    "    \"parent\": m.obr.obr_29.value if m.obr.obr_29.value else None,\n",
    "    \"transportation_mode\": m.obr.obr_30.value if m.obr.obr_30.value else None,\n",
    "    \"reason_for_study\": m.obr.obr_31.value if m.obr.obr_31.value else None,\n",
    "    \"principal_result_interpreter\": m.obr.obr_32.value if m.obr.obr_32.value else None,\n",
    "    \"assistant_result_interpreter\": m.obr.obr_33.value if m.obr.obr_33.value else None,\n",
    "    \"technician\": m.obr.obr_34.value if m.obr.obr_34.value else None,\n",
    "    \"transcriptionist\": m.obr.obr_35.value if m.obr.obr_35.value else None,\n",
    "    \"scheduled_date_time\": m.obr.obr_36.value if m.obr.obr_36.value else None,\n",
    "    \"number_of_sample_containers\": m.obr.obr_37.value if m.obr.obr_37.value else None,\n",
    "    \"transport_logistics_of_collected_sample\": m.obr.obr_38.value if m.obr.obr_38.value else None,\n",
    "    \"collector_comment\": m.obr.obr_39.value if m.obr.obr_39.value else None,\n",
    "    \"transport_arrangement_responsibility\": m.obr.obr_40.value if m.obr.obr_40.value else None,\n",
    "    \"transport_arranged\": m.obr.obr_41.value if m.obr.obr_41.value else None,\n",
    "    \"escort_required\": m.obr.obr_42.value if m.obr.obr_42.value else None,\n",
    "    \"planned_patient_transport_comment\": m.obr.obr_43.value if m.obr.obr_43.value else None,\n",
    "    \"ordering_facility_name\": m.obr.obr_44.value if m.obr.obr_44.value else None,\n",
    "    \"ordering_facility_address\": m.obr.obr_45.value if m.obr.obr_45.value else None,\n",
    "    # \"ordering_facility_phone_number\": m.obr.obr_46.value if m.obr.obr_46.value else None,\n",
    "    # \"ordering_provider_address\": m.obr.obr_47.value if m.obr.obr_47.value else None\n",
    "}\n",
    "\n",
    "pprint(incoming_hl7_OBR)"
   ]
  },
  {
   "cell_type": "code",
   "execution_count": 64,
   "metadata": {},
   "outputs": [
    {
     "name": "stdout",
     "output_type": "stream",
     "text": [
      "[{'abnormal_flags': 'N',\n",
      "  'date_last_observe_normal_values': None,\n",
      "  'date_time_of_the_observation': '20220124014108',\n",
      "  'nature_of_abnormal_test': None,\n",
      "  'observation_identifier': 'GLU^Glucose Lvl',\n",
      "  'observation_method': None,\n",
      "  'observation_sub_id': None,\n",
      "  'observation_value': '100',\n",
      "  'observe_result_status': 'F',\n",
      "  'probability': None,\n",
      "  'producer_id': 'Lab1',\n",
      "  'references_range': '70-100',\n",
      "  'responsible_observer': None,\n",
      "  'set_id_obx': '1',\n",
      "  'units': 'mg/dL',\n",
      "  'user_defined_access_checks': None,\n",
      "  'value_type': 'NM'},\n",
      " {'abnormal_flags': 'N',\n",
      "  'date_last_observe_normal_values': None,\n",
      "  'date_time_of_the_observation': '20220124014108',\n",
      "  'nature_of_abnormal_test': None,\n",
      "  'observation_identifier': 'COMMENT^Comment',\n",
      "  'observation_method': None,\n",
      "  'observation_sub_id': None,\n",
      "  'observation_value': 'Patient is diabetic.',\n",
      "  'observe_result_status': 'F',\n",
      "  'probability': None,\n",
      "  'producer_id': 'Lab1',\n",
      "  'references_range': None,\n",
      "  'responsible_observer': None,\n",
      "  'set_id_obx': '2',\n",
      "  'units': None,\n",
      "  'user_defined_access_checks': None,\n",
      "  'value_type': 'ST'}]\n"
     ]
    }
   ],
   "source": [
    "incoming_hl7_OBXs = []\n",
    "if not m.obx:\n",
    "    print(\"No OBX segments found in the HL7 message.\")\n",
    "else:\n",
    "    for obx in m.obx:\n",
    "        incoming_hl7_OBX = {\n",
    "            \"set_id_obx\": obx.obx_1.value if obx.obx_1.value else None,\n",
    "            \"value_type\": obx.obx_2.value if obx.obx_2.value else None,\n",
    "            \"observation_identifier\": obx.obx_3.value if obx.obx_3.value else None,\n",
    "            \"observation_sub_id\": obx.obx_4.value if obx.obx_4.value else None,\n",
    "            \"observation_value\": obx.obx_5.value if obx.obx_5.value else None,\n",
    "            \"units\": obx.obx_6.value if obx.obx_6.value else None,\n",
    "            \"references_range\": obx.obx_7.value if obx.obx_7.value else None,\n",
    "            \"abnormal_flags\": obx.obx_8.value if obx.obx_8.value else None,\n",
    "            \"probability\": obx.obx_9.value if obx.obx_9.value else None,\n",
    "            \"nature_of_abnormal_test\": obx.obx_10.value if obx.obx_10.value else None,\n",
    "            \"observe_result_status\": obx.obx_11.value if obx.obx_11.value else None,\n",
    "            \"date_last_observe_normal_values\": obx.obx_12.value if obx.obx_12.value else None,\n",
    "            \"user_defined_access_checks\": obx.obx_13.value if obx.obx_13.value else None,\n",
    "            \"date_time_of_the_observation\": obx.obx_14.value if obx.obx_14.value else None,\n",
    "            \"producer_id\": obx.obx_15.value if obx.obx_15.value else None,\n",
    "            \"responsible_observer\": obx.obx_16.value if obx.obx_16.value else None,\n",
    "            \"observation_method\": obx.obx_17.value if obx.obx_17.value else None\n",
    "        }\n",
    "        incoming_hl7_OBXs.append(incoming_hl7_OBX)\n",
    "\n",
    "    pprint(incoming_hl7_OBXs)"
   ]
  },
  {
   "cell_type": "code",
   "execution_count": 67,
   "metadata": {},
   "outputs": [
    {
     "name": "stdout",
     "output_type": "stream",
     "text": [
      "------------------\n",
      "[\n",
      "    {\n",
      "        \"set_id_obx\": \"1\",\n",
      "        \"value_type\": \"NM\",\n",
      "        \"observation_identifier\": \"GLU^Glucose Lvl\",\n",
      "        \"observation_sub_id\": null,\n",
      "        \"observation_value\": \"100\",\n",
      "        \"units\": \"mg/dL\",\n",
      "        \"references_range\": \"70-100\",\n",
      "        \"abnormal_flags\": \"N\",\n",
      "        \"probability\": null,\n",
      "        \"nature_of_abnormal_test\": null,\n",
      "        \"observe_result_status\": \"F\",\n",
      "        \"date_last_observe_normal_values\": null,\n",
      "        \"user_defined_access_checks\": null,\n",
      "        \"date_time_of_the_observation\": \"20220124014108\",\n",
      "        \"producer_id\": \"Lab1\",\n",
      "        \"responsible_observer\": null,\n",
      "        \"observation_method\": null\n",
      "    },\n",
      "    {\n",
      "        \"set_id_obx\": \"2\",\n",
      "        \"value_type\": \"ST\",\n",
      "        \"observation_identifier\": \"COMMENT^Comment\",\n",
      "        \"observation_sub_id\": null,\n",
      "        \"observation_value\": \"Patient is diabetic.\",\n",
      "        \"units\": null,\n",
      "        \"references_range\": null,\n",
      "        \"abnormal_flags\": \"N\",\n",
      "        \"probability\": null,\n",
      "        \"nature_of_abnormal_test\": null,\n",
      "        \"observe_result_status\": \"F\",\n",
      "        \"date_last_observe_normal_values\": null,\n",
      "        \"user_defined_access_checks\": null,\n",
      "        \"date_time_of_the_observation\": \"20220124014108\",\n",
      "        \"producer_id\": \"Lab1\",\n",
      "        \"responsible_observer\": null,\n",
      "        \"observation_method\": null\n",
      "    }\n",
      "]\n"
     ]
    }
   ],
   "source": [
    "print('------------------')\n",
    "json_OBX_object = json.dumps(incoming_hl7_OBXs, indent = 4, default=str)  \n",
    "print(json_OBX_object) "
   ]
  },
  {
   "cell_type": "code",
   "execution_count": 26,
   "metadata": {},
   "outputs": [
    {
     "name": "stdout",
     "output_type": "stream",
     "text": [
      "('PID|1||566-554-3423^^^GHH^MR||EVERYMAN^ADAM^A|||M|||2222 HOME STREET^^ANN '\n",
      " 'ARBOR^MI^^USA||555-555-2004~444-333-222|||M')\n"
     ]
    }
   ],
   "source": [
    "from hl7apy.parser import parse_segment\n",
    "\n",
    "pid1 = \"PID|1||566-554-3423^^^GHH^MR||EVERYMAN^ADAM^A|||M|||2222 HOME STREET^^ANN ARBOR^MI^^USA||555-555-2004~444-333-222|||M\\r\"\n",
    "segment = parse_segment(pid1)\n",
    "pprint(segment.to_er7())"
   ]
  },
  {
   "cell_type": "code",
   "execution_count": 27,
   "metadata": {},
   "outputs": [
    {
     "name": "stdout",
     "output_type": "stream",
     "text": [
      "'MSH|^~\\\\&|||||20231021192057|||||2.3.1'\n"
     ]
    },
    {
     "data": {
      "text/plain": [
       "'\\x0bMSH|^~\\\\&|||||20231021192057|||||2.3.1\\r\\x1c\\r'"
      ]
     },
     "execution_count": 27,
     "metadata": {},
     "output_type": "execute_result"
    }
   ],
   "source": [
    "from hl7apy.core import Message\n",
    "m1 = Message('ORU_R01')\n",
    "pprint(m1.to_er7())\n",
    "m1.to_mllp()"
   ]
  }
 ],
 "metadata": {
  "kernelspec": {
   "display_name": "python_env",
   "language": "python",
   "name": "python3"
  },
  "language_info": {
   "codemirror_mode": {
    "name": "ipython",
    "version": 3
   },
   "file_extension": ".py",
   "mimetype": "text/x-python",
   "name": "python",
   "nbconvert_exporter": "python",
   "pygments_lexer": "ipython3",
   "version": "3.12.0"
  }
 },
 "nbformat": 4,
 "nbformat_minor": 2
}
